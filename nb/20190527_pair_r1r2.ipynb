{
 "cells": [
  {
   "cell_type": "markdown",
   "metadata": {},
   "source": [
    "This notebook reads in two files containing filenames, examines the lists and outputs new files containing only filenames which are found in both files."
   ]
  },
  {
   "cell_type": "code",
   "execution_count": 1,
   "metadata": {},
   "outputs": [],
   "source": [
    "file1 = 'r1_list.txt'\n",
    "file2 = 'r2_list.txt'\n",
    "suffix1 = 'R1_001.fastq.gz'\n",
    "suffix2 = 'R2_001.fastq.gz'"
   ]
  },
  {
   "cell_type": "code",
   "execution_count": 2,
   "metadata": {},
   "outputs": [],
   "source": [
    "r1_set = set()\n",
    "with open(file1) as r1:\n",
    "    for line in r1:\n",
    "        r1_set.add(line[:line.rfind(suffix1)])\n",
    "\n",
    "r2_set = set()\n",
    "with open(file2) as r2:\n",
    "    for line in r2:\n",
    "        r2_set.add(line[:line.rfind(suffix2)])"
   ]
  },
  {
   "cell_type": "markdown",
   "metadata": {},
   "source": [
    "Read each file into a set object."
   ]
  },
  {
   "cell_type": "code",
   "execution_count": 3,
   "metadata": {},
   "outputs": [
    {
     "name": "stdout",
     "output_type": "stream",
     "text": [
      "244\n",
      "245\n"
     ]
    }
   ],
   "source": [
    "print(len(r1_set))\n",
    "print(len(r2_set))"
   ]
  },
  {
   "cell_type": "markdown",
   "metadata": {},
   "source": [
    "Check the file lengths."
   ]
  },
  {
   "cell_type": "code",
   "execution_count": 4,
   "metadata": {},
   "outputs": [
    {
     "data": {
      "text/plain": [
       "{'Basal-1-2016-C5_GGACTCCT-TATCCTCT_L008_',\n",
       " 'Basal-1-2016-C6_TAGGCATG-TATCCTCT_L008_'}"
      ]
     },
     "execution_count": 4,
     "metadata": {},
     "output_type": "execute_result"
    }
   ],
   "source": [
    "r2_set.difference(r1_set)"
   ]
  },
  {
   "cell_type": "markdown",
   "metadata": {},
   "source": [
    "Get the filenames which are in r2 but not in r1."
   ]
  },
  {
   "cell_type": "code",
   "execution_count": 5,
   "metadata": {},
   "outputs": [
    {
     "data": {
      "text/plain": [
       "{'Basal-1-2016-H11_AAGAGGCA-CTAAGCCT_L008_'}"
      ]
     },
     "execution_count": 5,
     "metadata": {},
     "output_type": "execute_result"
    }
   ],
   "source": [
    "r1_set.difference(r2_set)"
   ]
  },
  {
   "cell_type": "markdown",
   "metadata": {},
   "source": [
    "Get the filenames which are in r1 but not r2."
   ]
  },
  {
   "cell_type": "code",
   "execution_count": 6,
   "metadata": {},
   "outputs": [
    {
     "name": "stdout",
     "output_type": "stream",
     "text": [
      "243\n"
     ]
    }
   ],
   "source": [
    "paired = r1_set.intersection(r2_set)\n",
    "print(len(paired))"
   ]
  },
  {
   "cell_type": "markdown",
   "metadata": {},
   "source": [
    "Get the filenames which are in both r1 and r2 and store them in the variable \"paired\"."
   ]
  },
  {
   "cell_type": "code",
   "execution_count": 7,
   "metadata": {},
   "outputs": [],
   "source": [
    "r1_out = open(file1.replace('.txt', '_pairs.txt'), 'w')\n",
    "r2_out = open(file2.replace('.txt', '_pairs.txt'), 'w')\n",
    "\n",
    "for partial_fn in sorted(paired):\n",
    "    r1_out.write(partial_fn+suffix1+'\\n')\n",
    "    r2_out.write(partial_fn+suffix2+'\\n')\n",
    "\n",
    "r1_out.close()\n",
    "r2_out.close()"
   ]
  },
  {
   "cell_type": "markdown",
   "metadata": {},
   "source": [
    "Output the new lists of filenames by using paired and the original file suffixes."
   ]
  }
 ],
 "metadata": {
  "kernelspec": {
   "display_name": "Python 3",
   "language": "python",
   "name": "python3"
  },
  "language_info": {
   "codemirror_mode": {
    "name": "ipython",
    "version": 3
   },
   "file_extension": ".py",
   "mimetype": "text/x-python",
   "name": "python",
   "nbconvert_exporter": "python",
   "pygments_lexer": "ipython3",
   "version": "3.6.8"
  },
  "varInspector": {
   "cols": {
    "lenName": 16,
    "lenType": 16,
    "lenVar": 40
   },
   "kernels_config": {
    "python": {
     "delete_cmd_postfix": "",
     "delete_cmd_prefix": "del ",
     "library": "var_list.py",
     "varRefreshCmd": "print(var_dic_list())"
    },
    "r": {
     "delete_cmd_postfix": ") ",
     "delete_cmd_prefix": "rm(",
     "library": "var_list.r",
     "varRefreshCmd": "cat(var_dic_list()) "
    }
   },
   "types_to_exclude": [
    "module",
    "function",
    "builtin_function_or_method",
    "instance",
    "_Feature"
   ],
   "window_display": false
  }
 },
 "nbformat": 4,
 "nbformat_minor": 2
}
